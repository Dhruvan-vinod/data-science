{
 "cells": [
  {
   "cell_type": "code",
   "execution_count": 1,
   "metadata": {
    "colab": {
     "base_uri": "https://localhost:8080/"
    },
    "id": "-3_CUWG7_Ndp",
    "outputId": "78a15389-3f67-4357-d2b9-47fa02e9b60a"
   },
   "outputs": [
    {
     "name": "stdout",
     "output_type": "stream",
     "text": [
      "Model Accuracy: 0.9500\n",
      "Classification Report:\n",
      "               precision    recall  f1-score   support\n",
      "\n",
      "           0       1.00      0.89      0.94         9\n",
      "           1       0.92      1.00      0.96        11\n",
      "\n",
      "    accuracy                           0.95        20\n",
      "   macro avg       0.96      0.94      0.95        20\n",
      "weighted avg       0.95      0.95      0.95        20\n",
      "\n",
      "Predicted class for input [[ 5  2 10]]: 1\n"
     ]
    },
    {
     "name": "stderr",
     "output_type": "stream",
     "text": [
      "/usr/local/lib/python3.11/dist-packages/sklearn/utils/validation.py:2739: UserWarning: X does not have valid feature names, but LogisticRegression was fitted with feature names\n",
      "  warnings.warn(\n"
     ]
    }
   ],
   "source": [
    "import pandas as pd\n",
    "import numpy as np\n",
    "import statsmodels.api as sm\n",
    "from sklearn.model_selection import train_test_split\n",
    "from sklearn.linear_model import LogisticRegression\n",
    "from sklearn.metrics import accuracy_score, classification_report\n",
    "\n",
    "# Generate a synthetic dataset with three numerical features\n",
    "dataset = pd.DataFrame({\n",
    "    'Feature_A': np.random.rand(100) * 10,\n",
    "    'Feature_B': np.random.rand(100) * 5,\n",
    "    'Feature_C': np.random.rand(100) * 20,\n",
    "})\n",
    "\n",
    "# Create a binary target variable based on Feature_A and Feature_B\n",
    "dataset['Label'] = (dataset['Feature_A'] + dataset['Feature_B'] > 7).astype(int)\n",
    "\n",
    "# Define independent variables (features) and dependent variable (label)\n",
    "features = dataset[['Feature_A', 'Feature_B', 'Feature_C']]\n",
    "label = dataset['Label']\n",
    "\n",
    "# Split the dataset into training and testing subsets\n",
    "X_train, X_test, y_train, y_test = train_test_split(features, label, test_size=0.2, random_state=42)\n",
    "\n",
    "# Initialize and train the logistic regression model\n",
    "logistic_model = LogisticRegression()\n",
    "logistic_model.fit(X_train, y_train)\n",
    "\n",
    "# Make predictions on the test set\n",
    "y_pred = logistic_model.predict(X_test)\n",
    "\n",
    "# Evaluate model performance using accuracy and classification report\n",
    "model_accuracy = accuracy_score(y_test, y_pred)\n",
    "classification_summary = classification_report(y_test, y_pred)\n",
    "\n",
    "print(f\"Model Accuracy: {model_accuracy:.4f}\")\n",
    "print(\"Classification Report:\\n\", classification_summary)\n",
    "\n",
    "# Predict the class for a new set of inputs\n",
    "new_inputs = np.array([[5, 2, 10]])  # Example input values\n",
    "predicted_class = logistic_model.predict(new_inputs)\n",
    "print(f\"Predicted class for input {new_inputs}: {predicted_class[0]}\")"
   ]
  },
  {
   "cell_type": "markdown",
   "metadata": {},
   "source": []
  },
  {
   "cell_type": "code",
   "execution_count": null,
   "metadata": {},
   "outputs": [],
   "source": []
  }
 ],
 "metadata": {
  "colab": {
   "provenance": []
  },
  "kernelspec": {
   "display_name": "Python 3",
   "name": "python3"
  },
  "language_info": {
   "name": "python"
  }
 },
 "nbformat": 4,
 "nbformat_minor": 0
}
