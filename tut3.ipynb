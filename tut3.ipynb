{
  "nbformat": 4,
  "nbformat_minor": 0,
  "metadata": {
    "colab": {
      "provenance": []
    },
    "kernelspec": {
      "name": "python3",
      "display_name": "Python 3"
    },
    "language_info": {
      "name": "python"
    }
  },
  "cells": [
    {
      "cell_type": "code",
      "source": [
        "import pandas as pd\n",
        "import numpy as np\n",
        "import statsmodels.api as sm\n",
        "from sklearn.model_selection import train_test_split\n",
        "from sklearn.linear_model import LogisticRegression\n",
        "from sklearn.discriminant_analysis import LinearDiscriminantAnalysis as LDA\n",
        "from sklearn.metrics import accuracy_score, classification_report\n",
        "\n",
        "# Generate a synthetic dataset with three numerical features\n",
        "data_frame = pd.DataFrame({\n",
        "    'Feature_X': np.random.rand(100) * 10,\n",
        "    'Feature_Y': np.random.rand(100) * 5,\n",
        "    'Feature_Z': np.random.rand(100) * 20,\n",
        "})\n",
        "\n",
        "# Create a binary target variable based on Feature_X and Feature_Y\n",
        "data_frame['Target_Class'] = (data_frame['Feature_X'] + data_frame['Feature_Y'] > 7).astype(int)\n",
        "\n",
        "# Define independent variables (features) and dependent variable (target class)\n",
        "predictors = data_frame[['Feature_X', 'Feature_Y', 'Feature_Z']]\n",
        "target = data_frame['Target_Class']\n",
        "\n",
        "# Split the dataset into training and testing subsets\n",
        "X_train, X_test, y_train, y_test = train_test_split(predictors, target, test_size=0.2, random_state=42)\n",
        "\n",
        "# Initialize and train the logistic regression model\n",
        "logistic_model = LogisticRegression()\n",
        "logistic_model.fit(X_train, y_train)\n",
        "\n",
        "# Make predictions on the test set\n",
        "y_pred_logistic = logistic_model.predict(X_test)\n",
        "\n",
        "# Evaluate logistic regression model performance\n",
        "logistic_accuracy = accuracy_score(y_test, y_pred_logistic)\n",
        "logistic_report = classification_report(y_test, y_pred_logistic)\n",
        "\n",
        "print(f\"Logistic Regression Accuracy: {logistic_accuracy:.4f}\")\n",
        "print(\"Classification Report:\\n\", logistic_report)\n",
        "\n",
        "# Predict the class for a new set of inputs\n",
        "sample_input = np.array([[5, 2, 10]])  # Example input values\n",
        "predicted_class_logistic = logistic_model.predict(sample_input)\n",
        "print(f\"Predicted class for input {sample_input}: {predicted_class_logistic[0]}\")\n",
        "\n",
        "# Initialize and train the Linear Discriminant Analysis (LDA) model\n",
        "lda_model = LDA()\n",
        "lda_model.fit(X_train, y_train)\n",
        "y_pred_lda = lda_model.predict(X_test)\n",
        "lda_accuracy = accuracy_score(y_test, y_pred_lda)\n",
        "print(f\"LDA Accuracy: {lda_accuracy:.4f}\")\n",
        "\n",
        "# LDA using matrix operations\n",
        "X_train_df = pd.DataFrame(X_train, columns=['Feature_X', 'Feature_Y', 'Feature_Z'])\n",
        "y_train_df = pd.Series(y_train)\n",
        "\n",
        "mean_vectors = []\n",
        "for cls in np.unique(y_train):\n",
        "    mean_vectors.append(np.mean(X_train_df[y_train_df == cls], axis=0))\n",
        "\n",
        "S_W = np.zeros((X_train.shape[1], X_train.shape[1]))\n",
        "for cls, mean_vec in zip(np.unique(y_train), mean_vectors):\n",
        "    class_scatter = np.zeros((X_train.shape[1], X_train.shape[1]))\n",
        "    subset = X_train_df[y_train_df == cls].values\n",
        "    mean_vec = mean_vec.to_numpy().reshape(-1, 1)\n",
        "    for row in subset:\n",
        "        row = row.reshape(-1, 1)\n",
        "        class_scatter += (row - mean_vec).dot((row - mean_vec).T)\n",
        "    S_W += class_scatter\n",
        "\n",
        "mean_overall = np.mean(X_train_df, axis=0).to_numpy().reshape(-1, 1)\n",
        "S_B = np.zeros((X_train.shape[1], X_train.shape[1]))\n",
        "for cls, mean_vec in zip(np.unique(y_train), mean_vectors):\n",
        "    n = X_train_df[y_train_df == cls].shape[0]\n",
        "    mean_vec_arr = mean_vec.to_numpy().reshape(-1, 1)\n",
        "    S_B += n * (mean_vec_arr - mean_overall).dot((mean_vec_arr - mean_overall).T)\n",
        "\n",
        "# Compute eigenvalues and eigenvectors for the LDA transformation\n",
        "eigen_values, eigen_vectors = np.linalg.eig(np.linalg.inv(S_W).dot(S_B))\n",
        "\n",
        "print(\"Eigenvalues:\", eigen_values)\n",
        "print(\"Eigenvectors:\\n\", eigen_vectors)\n"
      ],
      "metadata": {
        "colab": {
          "base_uri": "https://localhost:8080/"
        },
        "id": "55-QR2drGBxJ",
        "outputId": "9c760ec3-0f47-4ee7-d50f-86fa610c3c8e"
      },
      "execution_count": 2,
      "outputs": [
        {
          "output_type": "stream",
          "name": "stdout",
          "text": [
            "Logistic Regression Accuracy: 1.0000\n",
            "Classification Report:\n",
            "               precision    recall  f1-score   support\n",
            "\n",
            "           0       1.00      1.00      1.00        12\n",
            "           1       1.00      1.00      1.00         8\n",
            "\n",
            "    accuracy                           1.00        20\n",
            "   macro avg       1.00      1.00      1.00        20\n",
            "weighted avg       1.00      1.00      1.00        20\n",
            "\n",
            "Predicted class for input [[ 5  2 10]]: 1\n",
            "LDA Accuracy: 1.0000\n",
            "Eigenvalues: [ 2.47611942e+00 -4.28056907e-18  3.56704885e-17]\n",
            "Eigenvectors:\n",
            " [[ 0.65539459  0.13541457 -0.35944165]\n",
            " [ 0.75485981 -0.49155364  0.92146948]\n",
            " [-0.02538911  0.86025456  0.14729462]]\n"
          ]
        },
        {
          "output_type": "stream",
          "name": "stderr",
          "text": [
            "/usr/local/lib/python3.11/dist-packages/sklearn/utils/validation.py:2739: UserWarning: X does not have valid feature names, but LogisticRegression was fitted with feature names\n",
            "  warnings.warn(\n"
          ]
        }
      ]
    }
  ]
}