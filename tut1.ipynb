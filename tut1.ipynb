{
  "nbformat": 4,
  "nbformat_minor": 0,
  "metadata": {
    "colab": {
      "provenance": []
    },
    "kernelspec": {
      "name": "python3",
      "display_name": "Python 3"
    },
    "language_info": {
      "name": "python"
    }
  },
  "cells": [
    {
      "cell_type": "code",
      "execution_count": 4,
      "metadata": {
        "colab": {
          "base_uri": "https://localhost:8080/"
        },
        "id": "bHE1XHQHjf1g",
        "outputId": "92ad4bf2-717b-483d-83d0-a5016783b856"
      },
      "outputs": [
        {
          "output_type": "stream",
          "name": "stdout",
          "text": [
            "                            OLS Regression Results                            \n",
            "==============================================================================\n",
            "Dep. Variable:                  sales   R-squared:                       0.897\n",
            "Model:                            OLS   Adj. R-squared:                  0.896\n",
            "Method:                 Least Squares   F-statistic:                     570.3\n",
            "Date:                Tue, 11 Mar 2025   Prob (F-statistic):           1.58e-96\n",
            "Time:                        09:53:37   Log-Likelihood:                -386.18\n",
            "No. Observations:                 200   AIC:                             780.4\n",
            "Df Residuals:                     196   BIC:                             793.6\n",
            "Df Model:                           3                                         \n",
            "Covariance Type:            nonrobust                                         \n",
            "==============================================================================\n",
            "                 coef    std err          t      P>|t|      [0.025      0.975]\n",
            "------------------------------------------------------------------------------\n",
            "const          2.9389      0.312      9.422      0.000       2.324       3.554\n",
            "TV             0.0458      0.001     32.809      0.000       0.043       0.049\n",
            "radio          0.1885      0.009     21.893      0.000       0.172       0.206\n",
            "newspaper     -0.0010      0.006     -0.177      0.860      -0.013       0.011\n",
            "==============================================================================\n",
            "Omnibus:                       60.414   Durbin-Watson:                   2.084\n",
            "Prob(Omnibus):                  0.000   Jarque-Bera (JB):              151.241\n",
            "Skew:                          -1.327   Prob(JB):                     1.44e-33\n",
            "Kurtosis:                       6.332   Cond. No.                         454.\n",
            "==============================================================================\n",
            "\n",
            "Notes:\n",
            "[1] Standard Errors assume that the covariance matrix of the errors is correctly specified.\n",
            "\n",
            "Residual Standard Error (RSE): 1.6855\n",
            "R-squared: 0.8972\n"
          ]
        }
      ],
      "source": [
        "import pandas as pd\n",
        "import statsmodels.api as sm\n",
        "\n",
        "# Load the dataset\n",
        "file_path = '/content/Advertising.csv'\n",
        "df = pd.read_csv(file_path)\n",
        "\n",
        "# Clean column names by removing extra whitespace\n",
        "df.columns = df.columns.str.strip()\n",
        "\n",
        "# Define independent variables (features) and dependent variable (target)\n",
        "features = df[['TV', 'radio', 'newspaper']]\n",
        "target = df['sales']\n",
        "\n",
        "# Add a constant term to include the intercept in the regression model\n",
        "features = sm.add_constant(features)\n",
        "\n",
        "# Fit the multiple linear regression model\n",
        "regression_model = sm.OLS(target, features).fit()\n",
        "\n",
        "# Display the model summary\n",
        "summary = regression_model.summary()\n",
        "print(summary)\n",
        "\n",
        "# Calculate Residual Standard Error (RSE), a measure of model accuracy\n",
        "residuals = regression_model.resid\n",
        "RSS = sum(residuals ** 2)\n",
        "n = len(target)\n",
        "p = features.shape[1] - 1  # Number of predictor variables\n",
        "RSE = (RSS / (n - p - 1)) ** 0.5\n",
        "\n",
        "# Extract R-squared value, indicating how well the model fits the data\n",
        "r_squared = regression_model.rsquared\n",
        "\n",
        "print(f\"\\nResidual Standard Error (RSE): {RSE:.4f}\")\n",
        "print(f\"R-squared: {r_squared:.4f}\")\n"
      ]
    }
  ]
}